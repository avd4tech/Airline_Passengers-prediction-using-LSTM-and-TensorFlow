{
 "cells": [
  {
   "cell_type": "code",
   "execution_count": 3,
   "metadata": {
    "id": "zMfoayXKZ7qR"
   },
   "outputs": [],
   "source": [
    "import numpy as np\n",
    "import matplotlib.pyplot as plt\n",
    "import pandas as pd\n",
    "from sklearn.metrics import mean_squared_error\n",
    "\n",
    "\n",
    "# Load the dataset\n",
    "dataset = pd.read_csv('https://raw.githubusercontent.com/jbrownlee/Datasets/master/airline-passengers.csv', usecols=[1], engine='python', skipfooter=3)\n"
   ]
  },
  {
   "cell_type": "code",
   "execution_count": 4,
   "metadata": {
    "colab": {
     "base_uri": "https://localhost:8080/",
     "height": 363
    },
    "id": "tFMl992faAc2",
    "outputId": "c8a20155-5b9d-4984-f762-a25e00d16282"
   },
   "outputs": [
    {
     "data": {
      "text/html": [
       "<div>\n",
       "<style scoped>\n",
       "    .dataframe tbody tr th:only-of-type {\n",
       "        vertical-align: middle;\n",
       "    }\n",
       "\n",
       "    .dataframe tbody tr th {\n",
       "        vertical-align: top;\n",
       "    }\n",
       "\n",
       "    .dataframe thead th {\n",
       "        text-align: right;\n",
       "    }\n",
       "</style>\n",
       "<table border=\"1\" class=\"dataframe\">\n",
       "  <thead>\n",
       "    <tr style=\"text-align: right;\">\n",
       "      <th></th>\n",
       "      <th>Passengers</th>\n",
       "    </tr>\n",
       "  </thead>\n",
       "  <tbody>\n",
       "    <tr>\n",
       "      <th>0</th>\n",
       "      <td>112</td>\n",
       "    </tr>\n",
       "    <tr>\n",
       "      <th>1</th>\n",
       "      <td>118</td>\n",
       "    </tr>\n",
       "    <tr>\n",
       "      <th>2</th>\n",
       "      <td>132</td>\n",
       "    </tr>\n",
       "    <tr>\n",
       "      <th>3</th>\n",
       "      <td>129</td>\n",
       "    </tr>\n",
       "    <tr>\n",
       "      <th>4</th>\n",
       "      <td>121</td>\n",
       "    </tr>\n",
       "    <tr>\n",
       "      <th>5</th>\n",
       "      <td>135</td>\n",
       "    </tr>\n",
       "    <tr>\n",
       "      <th>6</th>\n",
       "      <td>148</td>\n",
       "    </tr>\n",
       "    <tr>\n",
       "      <th>7</th>\n",
       "      <td>148</td>\n",
       "    </tr>\n",
       "    <tr>\n",
       "      <th>8</th>\n",
       "      <td>136</td>\n",
       "    </tr>\n",
       "    <tr>\n",
       "      <th>9</th>\n",
       "      <td>119</td>\n",
       "    </tr>\n",
       "  </tbody>\n",
       "</table>\n",
       "</div>"
      ],
      "text/plain": [
       "   Passengers\n",
       "0         112\n",
       "1         118\n",
       "2         132\n",
       "3         129\n",
       "4         121\n",
       "5         135\n",
       "6         148\n",
       "7         148\n",
       "8         136\n",
       "9         119"
      ]
     },
     "execution_count": 4,
     "metadata": {},
     "output_type": "execute_result"
    }
   ],
   "source": [
    "dataset.head(10)"
   ]
  },
  {
   "cell_type": "code",
   "execution_count": 6,
   "metadata": {},
   "outputs": [
    {
     "data": {
      "text/html": [
       "<div>\n",
       "<style scoped>\n",
       "    .dataframe tbody tr th:only-of-type {\n",
       "        vertical-align: middle;\n",
       "    }\n",
       "\n",
       "    .dataframe tbody tr th {\n",
       "        vertical-align: top;\n",
       "    }\n",
       "\n",
       "    .dataframe thead th {\n",
       "        text-align: right;\n",
       "    }\n",
       "</style>\n",
       "<table border=\"1\" class=\"dataframe\">\n",
       "  <thead>\n",
       "    <tr style=\"text-align: right;\">\n",
       "      <th></th>\n",
       "      <th>Passengers</th>\n",
       "    </tr>\n",
       "  </thead>\n",
       "  <tbody>\n",
       "    <tr>\n",
       "      <th>0</th>\n",
       "      <td>112</td>\n",
       "    </tr>\n",
       "    <tr>\n",
       "      <th>1</th>\n",
       "      <td>118</td>\n",
       "    </tr>\n",
       "    <tr>\n",
       "      <th>2</th>\n",
       "      <td>132</td>\n",
       "    </tr>\n",
       "    <tr>\n",
       "      <th>3</th>\n",
       "      <td>129</td>\n",
       "    </tr>\n",
       "    <tr>\n",
       "      <th>4</th>\n",
       "      <td>121</td>\n",
       "    </tr>\n",
       "    <tr>\n",
       "      <th>...</th>\n",
       "      <td>...</td>\n",
       "    </tr>\n",
       "    <tr>\n",
       "      <th>136</th>\n",
       "      <td>472</td>\n",
       "    </tr>\n",
       "    <tr>\n",
       "      <th>137</th>\n",
       "      <td>535</td>\n",
       "    </tr>\n",
       "    <tr>\n",
       "      <th>138</th>\n",
       "      <td>622</td>\n",
       "    </tr>\n",
       "    <tr>\n",
       "      <th>139</th>\n",
       "      <td>606</td>\n",
       "    </tr>\n",
       "    <tr>\n",
       "      <th>140</th>\n",
       "      <td>508</td>\n",
       "    </tr>\n",
       "  </tbody>\n",
       "</table>\n",
       "<p>141 rows × 1 columns</p>\n",
       "</div>"
      ],
      "text/plain": [
       "     Passengers\n",
       "0           112\n",
       "1           118\n",
       "2           132\n",
       "3           129\n",
       "4           121\n",
       "..          ...\n",
       "136         472\n",
       "137         535\n",
       "138         622\n",
       "139         606\n",
       "140         508\n",
       "\n",
       "[141 rows x 1 columns]"
      ]
     },
     "execution_count": 6,
     "metadata": {},
     "output_type": "execute_result"
    }
   ],
   "source": [
    "dataset"
   ]
  },
  {
   "cell_type": "code",
   "execution_count": null,
   "metadata": {
    "colab": {
     "base_uri": "https://localhost:8080/"
    },
    "id": "0w04fQSfa_Vq",
    "outputId": "4a3a6830-4f73-4a12-f7f4-461ec26d3e82"
   },
   "outputs": [
    {
     "data": {
      "text/plain": [
       "104"
      ]
     },
     "execution_count": 9,
     "metadata": {},
     "output_type": "execute_result"
    }
   ],
   "source": [
    "min(dataset.Passengers)"
   ]
  },
  {
   "cell_type": "code",
   "execution_count": 4,
   "metadata": {
    "id": "HBAuPnEMa0Gh"
   },
   "outputs": [],
   "source": [
    "from sklearn.preprocessing import MinMaxScaler"
   ]
  },
  {
   "cell_type": "code",
   "execution_count": 5,
   "metadata": {
    "id": "TMDe0TCKa8rg"
   },
   "outputs": [],
   "source": [
    "scaler = MinMaxScaler(feature_range=(0,1))"
   ]
  },
  {
   "cell_type": "code",
   "execution_count": 6,
   "metadata": {
    "id": "dRSE-COSbMeg"
   },
   "outputs": [],
   "source": [
    "dataset = scaler.fit_transform(dataset)"
   ]
  },
  {
   "cell_type": "code",
   "execution_count": 7,
   "metadata": {
    "colab": {
     "base_uri": "https://localhost:8080/"
    },
    "id": "nS6uzrNmbRl4",
    "outputId": "b62c8c7d-65b6-472a-d84c-161ae26cf881"
   },
   "outputs": [
    {
     "data": {
      "text/plain": [
       "array([[0.01544402],\n",
       "       [0.02702703],\n",
       "       [0.05405405],\n",
       "       [0.04826255],\n",
       "       [0.03281853]])"
      ]
     },
     "execution_count": 7,
     "metadata": {},
     "output_type": "execute_result"
    }
   ],
   "source": [
    "dataset[:5]"
   ]
  },
  {
   "cell_type": "code",
   "execution_count": 8,
   "metadata": {
    "colab": {
     "base_uri": "https://localhost:8080/"
    },
    "id": "Jhvu55G4bSkp",
    "outputId": "d3b67d8d-cca6-4c07-f414-622bcfb94923"
   },
   "outputs": [
    {
     "data": {
      "text/plain": [
       "141"
      ]
     },
     "execution_count": 8,
     "metadata": {},
     "output_type": "execute_result"
    }
   ],
   "source": [
    "len(dataset)"
   ]
  },
  {
   "cell_type": "code",
   "execution_count": 9,
   "metadata": {
    "id": "-WePPXP7bbfg"
   },
   "outputs": [],
   "source": [
    "training_size = 100\n",
    "train, test = dataset[0:training_size, :] , dataset[training_size:len(dataset),:] #dataset[0:100, :] , dataset[100:141,:]"
   ]
  },
  {
   "cell_type": "code",
   "execution_count": 10,
   "metadata": {
    "colab": {
     "base_uri": "https://localhost:8080/"
    },
    "id": "4Dfv6OhybioG",
    "outputId": "e049375e-eb04-4107-a39a-ecf221d22849"
   },
   "outputs": [
    {
     "data": {
      "text/plain": [
       "(100, 1)"
      ]
     },
     "execution_count": 10,
     "metadata": {},
     "output_type": "execute_result"
    }
   ],
   "source": [
    "train.shape"
   ]
  },
  {
   "cell_type": "code",
   "execution_count": 11,
   "metadata": {
    "colab": {
     "base_uri": "https://localhost:8080/"
    },
    "id": "xJatZuHTd8kv",
    "outputId": "edcbdc81-f2b5-476d-bba2-7e7b4a87faaa"
   },
   "outputs": [
    {
     "data": {
      "text/plain": [
       "(41, 1)"
      ]
     },
     "execution_count": 11,
     "metadata": {},
     "output_type": "execute_result"
    }
   ],
   "source": [
    "test.shape"
   ]
  },
  {
   "cell_type": "code",
   "execution_count": null,
   "metadata": {
    "colab": {
     "base_uri": "https://localhost:8080/"
    },
    "id": "K3JUP7tuXY_o",
    "outputId": "bf572efb-65a1-41ae-b007-bb9646073f37"
   },
   "outputs": [
    {
     "data": {
      "text/plain": [
       "array([[0.01544402],\n",
       "       [0.02702703],\n",
       "       [0.05405405],\n",
       "       [0.04826255],\n",
       "       [0.03281853]])"
      ]
     },
     "execution_count": 11,
     "metadata": {},
     "output_type": "execute_result"
    }
   ],
   "source": [
    "train[:5]"
   ]
  },
  {
   "cell_type": "code",
   "execution_count": null,
   "metadata": {
    "colab": {
     "base_uri": "https://localhost:8080/"
    },
    "id": "3WfS1Jb8b1Tt",
    "outputId": "42776540-9d82-41da-dfe0-4a2b09b05af9"
   },
   "outputs": [
    {
     "data": {
      "text/plain": [
       "(41, 1)"
      ]
     },
     "execution_count": 10,
     "metadata": {},
     "output_type": "execute_result"
    }
   ],
   "source": [
    "test.shape"
   ]
  },
  {
   "cell_type": "code",
   "execution_count": null,
   "metadata": {
    "colab": {
     "base_uri": "https://localhost:8080/"
    },
    "id": "JjiQ4tYTXa3F",
    "outputId": "70b274f8-0fb8-4b9a-ff0c-f89c9b90f301"
   },
   "outputs": [
    {
     "data": {
      "text/plain": [
       "array([[0.48455598],\n",
       "       [0.61389961],\n",
       "       [0.6969112 ],\n",
       "       [0.7007722 ],\n",
       "       [0.57915058]])"
      ]
     },
     "execution_count": 12,
     "metadata": {},
     "output_type": "execute_result"
    }
   ],
   "source": [
    "test[:5]"
   ]
  },
  {
   "cell_type": "code",
   "execution_count": 12,
   "metadata": {
    "id": "I6vuyo3db4MQ"
   },
   "outputs": [],
   "source": [
    "import numpy as np\n",
    "def create_x_y(data,look_back):\n",
    "  x_data, y_data = [],[]\n",
    "  for i in range(len(data) - look_back - 1):\n",
    "    iv = data[i:(i+look_back),0]\n",
    "    dv = data[i + look_back,0]\n",
    "    x_data.append(iv)\n",
    "    y_data.append(dv)\n",
    "  x_data = np.array(x_data)\n",
    "  y_data = np.array(y_data)\n",
    "  return x_data,y_data\n"
   ]
  },
  {
   "cell_type": "code",
   "execution_count": 13,
   "metadata": {
    "id": "3DXytwnRdMqF"
   },
   "outputs": [],
   "source": [
    "x_train,y_train = create_x_y(train,1)"
   ]
  },
  {
   "cell_type": "code",
   "execution_count": null,
   "metadata": {
    "id": "v7PYEnLA67Ly"
   },
   "outputs": [],
   "source": []
  },
  {
   "cell_type": "code",
   "execution_count": 14,
   "metadata": {
    "id": "Yj-RLxXChSGM"
   },
   "outputs": [],
   "source": [
    "x_test,y_test = create_x_y(test,1)"
   ]
  },
  {
   "cell_type": "code",
   "execution_count": null,
   "metadata": {
    "id": "_c5RBtsthZU9"
   },
   "outputs": [],
   "source": []
  },
  {
   "cell_type": "code",
   "execution_count": null,
   "metadata": {
    "id": "SkTrbW_shauf"
   },
   "outputs": [],
   "source": [
    "# sequestial models usually take data interms of 3d array"
   ]
  },
  {
   "cell_type": "code",
   "execution_count": 15,
   "metadata": {
    "colab": {
     "base_uri": "https://localhost:8080/"
    },
    "id": "J0KNvDyUhoIA",
    "outputId": "f97fe34f-d8bb-4c30-ae0c-215447af8207"
   },
   "outputs": [
    {
     "data": {
      "text/plain": [
       "(98, 1)"
      ]
     },
     "execution_count": 15,
     "metadata": {},
     "output_type": "execute_result"
    }
   ],
   "source": [
    "x_train.shape"
   ]
  },
  {
   "cell_type": "code",
   "execution_count": 16,
   "metadata": {
    "id": "Y0_MA0xehpQP"
   },
   "outputs": [],
   "source": [
    "x_train = np.reshape(x_train,(x_train.shape[0], 1, x_train.shape[1]))"
   ]
  },
  {
   "cell_type": "code",
   "execution_count": 17,
   "metadata": {
    "colab": {
     "base_uri": "https://localhost:8080/"
    },
    "id": "M1TntTDjh4uy",
    "outputId": "af0ba424-555c-4ea5-c784-f586b6b2b483"
   },
   "outputs": [
    {
     "data": {
      "text/plain": [
       "(98, 1, 1)"
      ]
     },
     "execution_count": 17,
     "metadata": {},
     "output_type": "execute_result"
    }
   ],
   "source": [
    "x_train.shape"
   ]
  },
  {
   "cell_type": "code",
   "execution_count": 18,
   "metadata": {
    "colab": {
     "base_uri": "https://localhost:8080/"
    },
    "id": "YwbFnlwwiDpb",
    "outputId": "8e6690e3-f522-4095-e9b4-678efe3d7bd4"
   },
   "outputs": [
    {
     "data": {
      "text/plain": [
       "(39, 1)"
      ]
     },
     "execution_count": 18,
     "metadata": {},
     "output_type": "execute_result"
    }
   ],
   "source": [
    "x_test.shape"
   ]
  },
  {
   "cell_type": "code",
   "execution_count": 19,
   "metadata": {
    "id": "uLImCtUzh5-Z"
   },
   "outputs": [],
   "source": [
    "x_test = np.reshape(x_test,(x_test.shape[0], 1, x_test.shape[1]))"
   ]
  },
  {
   "cell_type": "code",
   "execution_count": 20,
   "metadata": {
    "colab": {
     "base_uri": "https://localhost:8080/"
    },
    "id": "f7ylm0tUiFxe",
    "outputId": "5e4eb350-f561-4d85-8585-511957587514"
   },
   "outputs": [
    {
     "data": {
      "text/plain": [
       "(39, 1, 1)"
      ]
     },
     "execution_count": 20,
     "metadata": {},
     "output_type": "execute_result"
    }
   ],
   "source": [
    "x_test.shape"
   ]
  },
  {
   "cell_type": "code",
   "execution_count": 21,
   "metadata": {
    "id": "rA2zE9c0iKt1"
   },
   "outputs": [],
   "source": [
    "from tensorflow.keras.models import Sequential"
   ]
  },
  {
   "cell_type": "code",
   "execution_count": 22,
   "metadata": {
    "id": "qIFELgsdiKwm"
   },
   "outputs": [],
   "source": [
    "model = Sequential() #brain without neurons"
   ]
  },
  {
   "cell_type": "code",
   "execution_count": 23,
   "metadata": {
    "id": "-e0GJAgEiK04"
   },
   "outputs": [],
   "source": [
    "from tensorflow.keras.layers import LSTM,Dense"
   ]
  },
  {
   "cell_type": "code",
   "execution_count": 24,
   "metadata": {
    "id": "AYD5sz-Abi0D"
   },
   "outputs": [],
   "source": [
    "look_back = 1"
   ]
  },
  {
   "cell_type": "code",
   "execution_count": 25,
   "metadata": {
    "colab": {
     "base_uri": "https://localhost:8080/"
    },
    "id": "tyWyzRo49kVs",
    "outputId": "da2b70f7-ecde-4c89-aa0f-19a820c829ca"
   },
   "outputs": [
    {
     "data": {
      "text/plain": [
       "(98, 1, 1)"
      ]
     },
     "execution_count": 25,
     "metadata": {},
     "output_type": "execute_result"
    }
   ],
   "source": [
    "x_train.shape"
   ]
  },
  {
   "cell_type": "code",
   "execution_count": 26,
   "metadata": {
    "id": "JlT2MIh4iK3m"
   },
   "outputs": [],
   "source": [
    "model.add(LSTM(4, input_shape = (1, look_back), return_sequences=True))\n",
    "model.add(LSTM(4,return_sequences=True))\n",
    "model.add(LSTM(4))\n",
    "\n",
    "model.add(Dense(1))\n"
   ]
  },
  {
   "cell_type": "code",
   "execution_count": 27,
   "metadata": {
    "id": "DhYiGfJWiK8C"
   },
   "outputs": [],
   "source": [
    "model.compile(loss = 'mean_squared_error', optimizer = \"adam\")"
   ]
  },
  {
   "cell_type": "code",
   "execution_count": 30,
   "metadata": {
    "colab": {
     "base_uri": "https://localhost:8080/"
    },
    "id": "NHgPsERNcifP",
    "outputId": "bf59a4cb-6fb9-4305-c861-ae35849655e4"
   },
   "outputs": [
    {
     "data": {
      "text/plain": [
       "4900"
      ]
     },
     "execution_count": 30,
     "metadata": {},
     "output_type": "execute_result"
    }
   ],
   "source": [
    "(98 // 2) * 100"
   ]
  },
  {
   "cell_type": "code",
   "execution_count": 31,
   "metadata": {
    "colab": {
     "base_uri": "https://localhost:8080/"
    },
    "id": "rCaYfrzhiK-C",
    "outputId": "3caa02a9-efec-4fc7-b5c2-36791329885d"
   },
   "outputs": [
    {
     "name": "stdout",
     "output_type": "stream",
     "text": [
      "Epoch 1/100\n",
      "49/49 [==============================] - 9s 6ms/step - loss: 0.0536\n",
      "Epoch 2/100\n",
      "49/49 [==============================] - 0s 5ms/step - loss: 0.0311\n",
      "Epoch 3/100\n",
      "49/49 [==============================] - 0s 5ms/step - loss: 0.0212\n",
      "Epoch 4/100\n",
      "49/49 [==============================] - 0s 5ms/step - loss: 0.0181\n",
      "Epoch 5/100\n",
      "49/49 [==============================] - 0s 5ms/step - loss: 0.0174\n",
      "Epoch 6/100\n",
      "49/49 [==============================] - 0s 5ms/step - loss: 0.0170\n",
      "Epoch 7/100\n",
      "49/49 [==============================] - 0s 5ms/step - loss: 0.0163\n",
      "Epoch 8/100\n",
      "49/49 [==============================] - 0s 5ms/step - loss: 0.0158\n",
      "Epoch 9/100\n",
      "49/49 [==============================] - 0s 6ms/step - loss: 0.0148\n",
      "Epoch 10/100\n",
      "49/49 [==============================] - 0s 6ms/step - loss: 0.0137\n",
      "Epoch 11/100\n",
      "49/49 [==============================] - 0s 5ms/step - loss: 0.0125\n",
      "Epoch 12/100\n",
      "49/49 [==============================] - 0s 6ms/step - loss: 0.0111\n",
      "Epoch 13/100\n",
      "49/49 [==============================] - 0s 6ms/step - loss: 0.0097\n",
      "Epoch 14/100\n",
      "49/49 [==============================] - 0s 6ms/step - loss: 0.0082\n",
      "Epoch 15/100\n",
      "49/49 [==============================] - 0s 6ms/step - loss: 0.0067\n",
      "Epoch 16/100\n",
      "49/49 [==============================] - 0s 6ms/step - loss: 0.0054\n",
      "Epoch 17/100\n",
      "49/49 [==============================] - 0s 6ms/step - loss: 0.0043\n",
      "Epoch 18/100\n",
      "49/49 [==============================] - 0s 6ms/step - loss: 0.0034\n",
      "Epoch 19/100\n",
      "49/49 [==============================] - 0s 8ms/step - loss: 0.0029\n",
      "Epoch 20/100\n",
      "49/49 [==============================] - 0s 6ms/step - loss: 0.0027\n",
      "Epoch 21/100\n",
      "49/49 [==============================] - 0s 5ms/step - loss: 0.0025\n",
      "Epoch 22/100\n",
      "49/49 [==============================] - 0s 5ms/step - loss: 0.0024\n",
      "Epoch 23/100\n",
      "49/49 [==============================] - 0s 5ms/step - loss: 0.0024\n",
      "Epoch 24/100\n",
      "49/49 [==============================] - 0s 6ms/step - loss: 0.0024\n",
      "Epoch 25/100\n",
      "49/49 [==============================] - 0s 5ms/step - loss: 0.0024\n",
      "Epoch 26/100\n",
      "49/49 [==============================] - 0s 6ms/step - loss: 0.0023\n",
      "Epoch 27/100\n",
      "49/49 [==============================] - 0s 7ms/step - loss: 0.0022\n",
      "Epoch 28/100\n",
      "49/49 [==============================] - 0s 7ms/step - loss: 0.0023\n",
      "Epoch 29/100\n",
      "49/49 [==============================] - 0s 7ms/step - loss: 0.0023\n",
      "Epoch 30/100\n",
      "49/49 [==============================] - 0s 8ms/step - loss: 0.0022\n",
      "Epoch 31/100\n",
      "49/49 [==============================] - 0s 8ms/step - loss: 0.0025\n",
      "Epoch 32/100\n",
      "49/49 [==============================] - 0s 8ms/step - loss: 0.0022\n",
      "Epoch 33/100\n",
      "49/49 [==============================] - 0s 8ms/step - loss: 0.0022\n",
      "Epoch 34/100\n",
      "49/49 [==============================] - 0s 6ms/step - loss: 0.0022\n",
      "Epoch 35/100\n",
      "49/49 [==============================] - 0s 5ms/step - loss: 0.0023\n",
      "Epoch 36/100\n",
      "49/49 [==============================] - 0s 6ms/step - loss: 0.0023\n",
      "Epoch 37/100\n",
      "49/49 [==============================] - 0s 6ms/step - loss: 0.0022\n",
      "Epoch 38/100\n",
      "49/49 [==============================] - 0s 6ms/step - loss: 0.0022\n",
      "Epoch 39/100\n",
      "49/49 [==============================] - 0s 6ms/step - loss: 0.0023\n",
      "Epoch 40/100\n",
      "49/49 [==============================] - 0s 6ms/step - loss: 0.0022\n",
      "Epoch 41/100\n",
      "49/49 [==============================] - 0s 6ms/step - loss: 0.0022\n",
      "Epoch 42/100\n",
      "49/49 [==============================] - 0s 5ms/step - loss: 0.0022\n",
      "Epoch 43/100\n",
      "49/49 [==============================] - 0s 6ms/step - loss: 0.0022\n",
      "Epoch 44/100\n",
      "49/49 [==============================] - 0s 6ms/step - loss: 0.0022\n",
      "Epoch 45/100\n",
      "49/49 [==============================] - 0s 6ms/step - loss: 0.0022\n",
      "Epoch 46/100\n",
      "49/49 [==============================] - 0s 6ms/step - loss: 0.0022\n",
      "Epoch 47/100\n",
      "49/49 [==============================] - 0s 6ms/step - loss: 0.0023\n",
      "Epoch 48/100\n",
      "49/49 [==============================] - 0s 6ms/step - loss: 0.0023\n",
      "Epoch 49/100\n",
      "49/49 [==============================] - 0s 6ms/step - loss: 0.0022\n",
      "Epoch 50/100\n",
      "49/49 [==============================] - 0s 6ms/step - loss: 0.0022\n",
      "Epoch 51/100\n",
      "49/49 [==============================] - 0s 6ms/step - loss: 0.0024\n",
      "Epoch 52/100\n",
      "49/49 [==============================] - 0s 6ms/step - loss: 0.0022\n",
      "Epoch 53/100\n",
      "49/49 [==============================] - 0s 6ms/step - loss: 0.0022\n",
      "Epoch 54/100\n",
      "49/49 [==============================] - 0s 6ms/step - loss: 0.0023\n",
      "Epoch 55/100\n",
      "49/49 [==============================] - 0s 6ms/step - loss: 0.0023\n",
      "Epoch 56/100\n",
      "49/49 [==============================] - 0s 6ms/step - loss: 0.0021\n",
      "Epoch 57/100\n",
      "49/49 [==============================] - 0s 6ms/step - loss: 0.0022\n",
      "Epoch 58/100\n",
      "49/49 [==============================] - 0s 6ms/step - loss: 0.0021\n",
      "Epoch 59/100\n",
      "49/49 [==============================] - 0s 5ms/step - loss: 0.0022\n",
      "Epoch 60/100\n",
      "49/49 [==============================] - 0s 6ms/step - loss: 0.0022\n",
      "Epoch 61/100\n",
      "49/49 [==============================] - 0s 6ms/step - loss: 0.0022\n",
      "Epoch 62/100\n",
      "49/49 [==============================] - 0s 6ms/step - loss: 0.0022\n",
      "Epoch 63/100\n",
      "49/49 [==============================] - 0s 5ms/step - loss: 0.0022\n",
      "Epoch 64/100\n",
      "49/49 [==============================] - 0s 6ms/step - loss: 0.0021\n",
      "Epoch 65/100\n",
      "49/49 [==============================] - 0s 6ms/step - loss: 0.0022\n",
      "Epoch 66/100\n",
      "49/49 [==============================] - 0s 6ms/step - loss: 0.0021\n",
      "Epoch 67/100\n",
      "49/49 [==============================] - 0s 6ms/step - loss: 0.0022\n",
      "Epoch 68/100\n",
      "49/49 [==============================] - 0s 6ms/step - loss: 0.0022\n",
      "Epoch 69/100\n",
      "49/49 [==============================] - 0s 8ms/step - loss: 0.0023\n",
      "Epoch 70/100\n",
      "49/49 [==============================] - 0s 7ms/step - loss: 0.0021\n",
      "Epoch 71/100\n",
      "49/49 [==============================] - 0s 7ms/step - loss: 0.0023\n",
      "Epoch 72/100\n",
      "49/49 [==============================] - 0s 8ms/step - loss: 0.0022\n",
      "Epoch 73/100\n",
      "49/49 [==============================] - 0s 7ms/step - loss: 0.0022\n",
      "Epoch 74/100\n",
      "49/49 [==============================] - 0s 8ms/step - loss: 0.0021\n",
      "Epoch 75/100\n",
      "49/49 [==============================] - 0s 7ms/step - loss: 0.0022\n",
      "Epoch 76/100\n",
      "49/49 [==============================] - 0s 5ms/step - loss: 0.0021\n",
      "Epoch 77/100\n",
      "49/49 [==============================] - 0s 5ms/step - loss: 0.0021\n",
      "Epoch 78/100\n",
      "49/49 [==============================] - 0s 6ms/step - loss: 0.0022\n",
      "Epoch 79/100\n",
      "49/49 [==============================] - 0s 6ms/step - loss: 0.0020\n",
      "Epoch 80/100\n",
      "49/49 [==============================] - 0s 6ms/step - loss: 0.0022\n",
      "Epoch 81/100\n",
      "49/49 [==============================] - 0s 6ms/step - loss: 0.0022\n",
      "Epoch 82/100\n",
      "49/49 [==============================] - 0s 6ms/step - loss: 0.0022\n",
      "Epoch 83/100\n",
      "49/49 [==============================] - 0s 5ms/step - loss: 0.0024\n",
      "Epoch 84/100\n",
      "49/49 [==============================] - 0s 5ms/step - loss: 0.0021\n",
      "Epoch 85/100\n",
      "49/49 [==============================] - 0s 6ms/step - loss: 0.0020\n",
      "Epoch 86/100\n",
      "49/49 [==============================] - 0s 5ms/step - loss: 0.0022\n",
      "Epoch 87/100\n",
      "49/49 [==============================] - 0s 6ms/step - loss: 0.0021\n",
      "Epoch 88/100\n",
      "49/49 [==============================] - 0s 5ms/step - loss: 0.0021\n",
      "Epoch 89/100\n",
      "49/49 [==============================] - 0s 5ms/step - loss: 0.0021\n",
      "Epoch 90/100\n",
      "49/49 [==============================] - 0s 5ms/step - loss: 0.0021\n",
      "Epoch 91/100\n",
      "49/49 [==============================] - 0s 5ms/step - loss: 0.0021\n",
      "Epoch 92/100\n",
      "49/49 [==============================] - 0s 5ms/step - loss: 0.0022\n",
      "Epoch 93/100\n",
      "49/49 [==============================] - 0s 5ms/step - loss: 0.0021\n",
      "Epoch 94/100\n",
      "49/49 [==============================] - 0s 5ms/step - loss: 0.0021\n",
      "Epoch 95/100\n",
      "49/49 [==============================] - 0s 6ms/step - loss: 0.0020\n",
      "Epoch 96/100\n",
      "49/49 [==============================] - 0s 5ms/step - loss: 0.0021\n",
      "Epoch 97/100\n",
      "49/49 [==============================] - 0s 6ms/step - loss: 0.0021\n",
      "Epoch 98/100\n",
      "49/49 [==============================] - 0s 5ms/step - loss: 0.0021\n",
      "Epoch 99/100\n",
      "49/49 [==============================] - 0s 5ms/step - loss: 0.0022\n",
      "Epoch 100/100\n",
      "49/49 [==============================] - 0s 6ms/step - loss: 0.0021\n"
     ]
    },
    {
     "data": {
      "text/plain": [
       "<keras.src.callbacks.History at 0x78131a77d840>"
      ]
     },
     "execution_count": 31,
     "metadata": {},
     "output_type": "execute_result"
    }
   ],
   "source": [
    "model.fit(x_train,y_train, epochs = 100, batch_size = 2)"
   ]
  },
  {
   "cell_type": "code",
   "execution_count": 32,
   "metadata": {
    "colab": {
     "base_uri": "https://localhost:8080/"
    },
    "id": "L2Djh4byiLA3",
    "outputId": "c3c1681c-6321-4c57-fbd2-85920552e1d8"
   },
   "outputs": [
    {
     "name": "stdout",
     "output_type": "stream",
     "text": [
      "2/2 [==============================] - 1s 7ms/step\n"
     ]
    }
   ],
   "source": [
    "y_pred = model.predict(x_test)"
   ]
  },
  {
   "cell_type": "code",
   "execution_count": 33,
   "metadata": {
    "colab": {
     "base_uri": "https://localhost:8080/"
    },
    "id": "ViQ6SH1uk3J5",
    "outputId": "ccb90b6a-d804-4169-edd8-bf3c5e59a5e8"
   },
   "outputs": [
    {
     "data": {
      "text/plain": [
       "array([[0.4650802 ],\n",
       "       [0.5628489 ],\n",
       "       [0.61536676],\n",
       "       [0.61762697],\n",
       "       [0.5385357 ]], dtype=float32)"
      ]
     },
     "execution_count": 33,
     "metadata": {},
     "output_type": "execute_result"
    }
   ],
   "source": [
    "y_pred[:5]"
   ]
  },
  {
   "cell_type": "code",
   "execution_count": 34,
   "metadata": {
    "id": "xh3IZy0Hk4pm"
   },
   "outputs": [],
   "source": [
    "ypred = scaler.inverse_transform(y_pred)"
   ]
  },
  {
   "cell_type": "code",
   "execution_count": 35,
   "metadata": {
    "colab": {
     "base_uri": "https://localhost:8080/"
    },
    "id": "TUvDAMNklGXq",
    "outputId": "5ace6f99-0da7-46eb-e734-d8d32f13d5e4"
   },
   "outputs": [
    {
     "data": {
      "text/plain": [
       "array([[344.91156],\n",
       "       [395.55576],\n",
       "       [422.75998],\n",
       "       [423.9308 ],\n",
       "       [382.96152]], dtype=float32)"
      ]
     },
     "execution_count": 35,
     "metadata": {},
     "output_type": "execute_result"
    }
   ],
   "source": [
    "ypred[:5]"
   ]
  },
  {
   "cell_type": "code",
   "execution_count": 36,
   "metadata": {
    "colab": {
     "base_uri": "https://localhost:8080/"
    },
    "id": "NOVFsDsxlLAM",
    "outputId": "5335df47-a98c-48a8-e427-aedc8d62fdc0"
   },
   "outputs": [
    {
     "data": {
      "text/plain": [
       "array([0.61389961, 0.6969112 , 0.7007722 , 0.57915058, 0.46911197])"
      ]
     },
     "execution_count": 36,
     "metadata": {},
     "output_type": "execute_result"
    }
   ],
   "source": [
    "y_test[:5]"
   ]
  },
  {
   "cell_type": "code",
   "execution_count": 37,
   "metadata": {
    "id": "IdO2O7yZlQOk"
   },
   "outputs": [],
   "source": [
    "ytest = scaler.inverse_transform([y_test])"
   ]
  },
  {
   "cell_type": "code",
   "execution_count": 38,
   "metadata": {
    "colab": {
     "base_uri": "https://localhost:8080/"
    },
    "id": "ewgTnMJnlVN-",
    "outputId": "fe86bf12-1cf8-42d4-d4cb-0fe09f542bd9"
   },
   "outputs": [
    {
     "data": {
      "text/plain": [
       "array([[422., 465., 467., 404., 347., 305., 336., 340., 318., 362., 348.,\n",
       "        363., 435., 491., 505., 404., 359., 310., 337., 360., 342., 406.,\n",
       "        396., 420., 472., 548., 559., 463., 407., 362., 405., 417., 391.,\n",
       "        419., 461., 472., 535., 622., 606.]])"
      ]
     },
     "execution_count": 38,
     "metadata": {},
     "output_type": "execute_result"
    }
   ],
   "source": [
    "ytest"
   ]
  },
  {
   "cell_type": "code",
   "execution_count": null,
   "metadata": {
    "colab": {
     "base_uri": "https://localhost:8080/"
    },
    "id": "Q1TVQjNWlZLa",
    "outputId": "8c1c0dad-454b-4a25-b18c-95f1487a8d64"
   },
   "outputs": [
    {
     "data": {
      "text/plain": [
       "array([[355.38275],\n",
       "       [408.71985],\n",
       "       [438.35043],\n",
       "       [439.6446 ],\n",
       "       [395.25842]], dtype=float32)"
      ]
     },
     "execution_count": 60,
     "metadata": {},
     "output_type": "execute_result"
    }
   ],
   "source": [
    "ypred[:5]"
   ]
  },
  {
   "cell_type": "code",
   "execution_count": 39,
   "metadata": {
    "id": "TNBbuNHsldZh"
   },
   "outputs": [],
   "source": [
    "import matplotlib.pyplot as plt"
   ]
  },
  {
   "cell_type": "code",
   "execution_count": 42,
   "metadata": {
    "colab": {
     "base_uri": "https://localhost:8080/",
     "height": 447
    },
    "id": "EY6AzT5slkFB",
    "outputId": "205c32ca-9fd9-49ff-ffc2-5ac52ec5ba51"
   },
   "outputs": [
    {
     "data": {
      "text/plain": [
       "<matplotlib.legend.Legend at 0x7812f92a4dc0>"
      ]
     },
     "execution_count": 42,
     "metadata": {},
     "output_type": "execute_result"
    },
    {
     "data": {
      "image/png": "[encoded data removed]",
      "text/plain": [
       "<Figure size 640x480 with 1 Axes>"
      ]
     },
     "metadata": {},
     "output_type": "display_data"
    }
   ],
   "source": [
    "plt.plot(ypred, c = 'r',label = \"predicted passengers trend in airport\")\n",
    "plt.legend()"
   ]
  },
  {
   "cell_type": "code",
   "execution_count": null,
   "metadata": {
    "colab": {
     "base_uri": "https://localhost:8080/"
    },
    "id": "dbiSJ3Hulrje",
    "outputId": "86e78b9c-8c16-4362-d808-b9c134c5829f"
   },
   "outputs": [
    {
     "data": {
      "text/plain": [
       "(1, 39)"
      ]
     },
     "execution_count": 63,
     "metadata": {},
     "output_type": "execute_result"
    }
   ],
   "source": [
    "ytest.shape"
   ]
  },
  {
   "cell_type": "code",
   "execution_count": 43,
   "metadata": {
    "colab": {
     "base_uri": "https://localhost:8080/"
    },
    "id": "DuJTAmDyluVx",
    "outputId": "8a86d088-ab71-4ace-a858-ce2233e6bfa1"
   },
   "outputs": [
    {
     "data": {
      "text/plain": [
       "(39, 1)"
      ]
     },
     "execution_count": 43,
     "metadata": {},
     "output_type": "execute_result"
    }
   ],
   "source": [
    "ytest.T.shape"
   ]
  },
  {
   "cell_type": "code",
   "execution_count": 45,
   "metadata": {
    "colab": {
     "base_uri": "https://localhost:8080/",
     "height": 447
    },
    "id": "jLeOxnL8lnYA",
    "outputId": "1acd512f-b554-4e8d-cc27-dd41df3b4dfd"
   },
   "outputs": [
    {
     "data": {
      "text/plain": [
       "<matplotlib.legend.Legend at 0x7813ddc88e20>"
      ]
     },
     "execution_count": 45,
     "metadata": {},
     "output_type": "execute_result"
    },
    {
     "data": {
      "image/png": "[encoded data removed]",
      "text/plain": [
       "<Figure size 640x480 with 1 Axes>"
      ]
     },
     "metadata": {},
     "output_type": "display_data"
    }
   ],
   "source": []
  },
  {
   "cell_type": "code",
   "execution_count": 46,
   "metadata": {
    "colab": {
     "base_uri": "https://localhost:8080/",
     "height": 447
    },
    "id": "ueRQfIWOlpvC",
    "outputId": "6c49971a-8214-4aaa-a043-a47c14241dee"
   },
   "outputs": [
    {
     "data": {
      "text/plain": [
       "<matplotlib.legend.Legend at 0x7812f92e30a0>"
      ]
     },
     "execution_count": 46,
     "metadata": {},
     "output_type": "execute_result"
    },
    {
     "data": {
      "image/png": "[encoded data removed]",
      "text/plain": [
       "<Figure size 640x480 with 1 Axes>"
      ]
     },
     "metadata": {},
     "output_type": "display_data"
    }
   ],
   "source": [
    "plt.plot(ypred, c = 'r',label = \"predicted passengers trend in airport\")\n",
    "plt.plot(ytest.T, c = 'b',label = \"actual passengers trend in airport\")\n",
    "plt.legend()\n"
   ]
  },
  {
   "cell_type": "code",
   "execution_count": 47,
   "metadata": {
    "colab": {
     "base_uri": "https://localhost:8080/"
    },
    "id": "1uI4iYWSmCbs",
    "outputId": "da777a6c-0ac4-4c3d-86c5-d2a735a0a6ef"
   },
   "outputs": [
    {
     "data": {
      "text/plain": [
       "49.41996882512019"
      ]
     },
     "execution_count": 47,
     "metadata": {},
     "output_type": "execute_result"
    }
   ],
   "source": [
    "from sklearn.metrics import mean_absolute_error\n",
    "mean_absolute_error(ytest.T,ypred)"
   ]
  },
  {
   "cell_type": "code",
   "execution_count": null,
   "metadata": {
    "colab": {
     "base_uri": "https://localhost:8080/"
    },
    "id": "GKI8Pxqnm2Pq",
    "outputId": "f88f4153-94e7-4632-b555-50b8f62946e3"
   },
   "outputs": [
    {
     "data": {
      "text/plain": [
       "(39, 1)"
      ]
     },
     "execution_count": 74,
     "metadata": {},
     "output_type": "execute_result"
    }
   ],
   "source": [
    "ypred.shape"
   ]
  },
  {
   "cell_type": "code",
   "execution_count": null,
   "metadata": {
    "colab": {
     "base_uri": "https://localhost:8080/"
    },
    "id": "eco43T6EnEqx",
    "outputId": "b9ff8e69-e58c-4295-c08c-bc48d39cd5df"
   },
   "outputs": [
    {
     "data": {
      "text/plain": [
       "(1, 39)"
      ]
     },
     "execution_count": 75,
     "metadata": {},
     "output_type": "execute_result"
    }
   ],
   "source": [
    "ytest.shape\n"
   ]
  },
  {
   "cell_type": "code",
   "execution_count": null,
   "metadata": {
    "id": "9GTDz3WmnHjM"
   },
   "outputs": [],
   "source": []
  }
 ],
 "metadata": {
  "accelerator": "GPU",
  "colab": {
   "gpuType": "T4",
   "provenance": []
  },
  "kernelspec": {
   "display_name": "Python 3 (ipykernel)",
   "language": "python",
   "name": "python3"
  },
  "language_info": {
   "codemirror_mode": {
    "name": "ipython",
    "version": 3
   },
   "file_extension": ".py",
   "mimetype": "text/x-python",
   "name": "python",
   "nbconvert_exporter": "python",
   "pygments_lexer": "ipython3",
   "version": "3.10.9"
  }
 },
 "nbformat": 4,
 "nbformat_minor": 1
}
